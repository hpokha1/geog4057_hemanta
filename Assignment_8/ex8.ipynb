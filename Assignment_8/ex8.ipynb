{
 "cells": [
  {
   "cell_type": "code",
   "execution_count": 1,
   "id": "42f5e5a8-aea7-40e7-b6c1-4184dda2adcf",
   "metadata": {},
   "outputs": [],
   "source": [
    "import arcpy"
   ]
  },
  {
   "cell_type": "markdown",
   "id": "84aac104-241b-4671-9e07-7c6ebe74c308",
   "metadata": {},
   "source": [
    "Manipulate the project in VS Code\n",
    "Open the project and print some information \n"
   ]
  },
  {
   "cell_type": "code",
   "execution_count": 3,
   "id": "dcbbaa35",
   "metadata": {},
   "outputs": [
    {
     "name": "stdout",
     "output_type": "stream",
     "text": [
      "C:\\Users\\hpokha1\\OneDrive - Louisiana State University\\Desktop\\LSU\\01_Class\\01_Classes_2nd_sem\\GEOG_4057\\Assignment_8\\Ex8\\Austin_Data.gdb\n"
     ]
    }
   ],
   "source": [
    "import arcpy\n",
    "import os\n",
    "pathname = r\"C:\\Users\\hpokha1\\OneDrive - Louisiana State University\\Desktop\\LSU\\01_Class\\01_Classes_2nd_sem\\GEOG_4057\\Assignment_8\\Ex8\"\n",
    "aprx = arcpy.mp.ArcGISProject(os.path.join(pathname,\"Austin.aprx\"))\n",
    "print(aprx.defaultGeodatabase)"
   ]
  },
  {
   "cell_type": "code",
   "execution_count": 4,
   "id": "b7b3483d",
   "metadata": {},
   "outputs": [],
   "source": [
    "#Save a copy of the project\n",
    "aprx.saveACopy(os.path.join(pathname,'Austin_Copy.aprx'))"
   ]
  },
  {
   "cell_type": "markdown",
   "id": "186c261b",
   "metadata": {},
   "source": [
    "Is everything the same as the original project? (Compare the difference in the file sizes) and why?\n",
    "\n",
    "Ans: The original file is read only and the new file is editable. For the original read only file, ArcGIS Pro might have store extra internal metadata or safety buffers to protect the file from accidental edits.\n"
   ]
  },
  {
   "cell_type": "code",
   "execution_count": 6,
   "id": "4971e26b-16c3-47d7-ab30-1993ed5a0e29",
   "metadata": {},
   "outputs": [
    {
     "name": "stdout",
     "output_type": "stream",
     "text": [
      "Downtown\n",
      "Foot_US\n",
      "County\n",
      "Foot_US\n"
     ]
    }
   ],
   "source": [
    "#print a list of maps in the project\n",
    "aprx = arcpy.mp.ArcGISProject('CURRENT')\n",
    "maps = aprx.listMaps()\n",
    "for m in maps:\n",
    "    print(m.name)\n",
    "    print(m.mapUnits)\n",
    "del aprx"
   ]
  },
  {
   "cell_type": "markdown",
   "id": "bb34e7e0",
   "metadata": {},
   "source": [
    "What does del do in the last line? Was the project file deleted?\n",
    "\n",
    "Ans: Del line removes the objects and make the memory free after using the project and done with it. No, the project file wasn’t deleted.\n"
   ]
  },
  {
   "cell_type": "code",
   "execution_count": 11,
   "id": "acf23634-bdbb-4746-b120-57ecafa6f8c4",
   "metadata": {},
   "outputs": [],
   "source": [
    "#change the name of a map\n",
    "aprx = arcpy.mp.ArcGISProject('CURRENT')\n",
    "m = aprx.listMaps(\"Region\")[0]\n",
    "m.name = \"County\"\n",
    "del aprx"
   ]
  },
  {
   "cell_type": "markdown",
   "id": "a76d2c66-1e72-4185-96e3-1a0b5807aeb6",
   "metadata": {},
   "source": [
    "Yes, the name is changed to County"
   ]
  },
  {
   "cell_type": "code",
   "execution_count": 8,
   "id": "9a7fe42a-d1d9-46de-b2db-bb3c409b142a",
   "metadata": {},
   "outputs": [
    {
     "name": "stdout",
     "output_type": "stream",
     "text": [
      "Map: Downtown\n",
      "Light Gray Reference\n",
      "trees\n",
      "parks\n",
      "base\n",
      "Light Gray Base\n",
      "Map: County\n",
      "facilities\n",
      "hospitals\n",
      "parks\n",
      "Topographic\n"
     ]
    }
   ],
   "source": [
    "#print if a layer is a basemap or a feature layer\n",
    "aprx = arcpy.mp.ArcGISProject('CURRENT')\n",
    "maps = aprx.listMaps()\n",
    "for m in maps:\n",
    "    print(\"Map: \" + m.name)\n",
    "    lyrs = m.listLayers()\n",
    "    for lyr in lyrs:\n",
    "        print(lyr.name)\n",
    "del aprx"
   ]
  },
  {
   "cell_type": "code",
   "execution_count": 9,
   "id": "7b128b4f-b526-419c-a51e-25bcb2305971",
   "metadata": {},
   "outputs": [],
   "source": [
    "#change the basemap of Downtown\n",
    "aprx = arcpy.mp.ArcGISProject('CURRENT')\n",
    "m = aprx.listMaps(\"Downtown\")[0]\n",
    "m.addBasemap(\"Light Gray Canvas\")"
   ]
  },
  {
   "cell_type": "markdown",
   "id": "6a3c2f2f-b8f8-44cc-84d4-a7da374c9677",
   "metadata": {},
   "source": [
    "Work with lAYERS"
   ]
  },
  {
   "cell_type": "code",
   "execution_count": 10,
   "id": "e6cea0f4-fb16-49f5-b1d2-1a4910c5bbfe",
   "metadata": {},
   "outputs": [],
   "source": [
    "#change the symbology of layers\n",
    "aprx = arcpy.mp.ArcGISProject(\"CURRENT\")\n",
    "m = aprx.listMaps(\"Downtown\")[0]\n",
    "lyr = m.listLayers(\"parks\")[0]\n",
    "sym = lyr.symbology\n",
    "green = {\"RGB\": [100, 175, 0, 100]}\n",
    "if lyr.isFeatureLayer and hasattr(sym, \"renderer\"):\n",
    "    sym.renderer.symbol.color = green\n",
    "    lyr.symbology = sym"
   ]
  },
  {
   "cell_type": "markdown",
   "id": "ae6a67d5",
   "metadata": {},
   "source": [
    "Q.N What type is the 'green' variable? What do the numbers in the list mean? If you want to show a brown color, what numbers you would fill it with? Change it in the block and confirm the color is changed to brown.\n",
    "\n",
    "Ans: It is a dictonary and “RGB” is key.  The numbers are value for RED, GREEN, BLUE, and TRANSPARENCY. In this case it is greenish coor with zero transparency (opaque). \n",
    "It can be made brown with the code brown = {\"RGB\": [150, 75, 0, 100]}\n"
   ]
  },
  {
   "cell_type": "code",
   "execution_count": 12,
   "id": "dd6d7326-8cf4-421d-a31a-fe5e9f89e51e",
   "metadata": {},
   "outputs": [],
   "source": [
    "#change the symbology of layers\n",
    "aprx = arcpy.mp.ArcGISProject(\"CURRENT\")\n",
    "m = aprx.listMaps(\"Downtown\")[0]\n",
    "lyr = m.listLayers(\"parks\")[0]\n",
    "sym = lyr.symbology\n",
    "brown = {\"RGB\": [150, 75, 0, 100]}  # Brown color\n",
    "if lyr.isFeatureLayer and hasattr(sym, \"renderer\"):\n",
    "    sym.renderer.symbol.color = brown\n",
    "    lyr.symbology = sym\n"
   ]
  },
  {
   "cell_type": "code",
   "execution_count": 13,
   "id": "afc84e55-1710-45e7-8b56-5cb1960131d7",
   "metadata": {},
   "outputs": [],
   "source": [
    "# create a layout and insert the map \"Downtown\" in the layout\n",
    "m = aprx.listMaps(\"Downtown\")[0]\n",
    "\n",
    "lyt = aprx.createLayout( 11,8.5, 'INCH', 'New Layout with Rectangles')\n",
    "\n",
    "def MakeRec_LL(llx, lly, w, h):\n",
    "    xyRecList = [[llx, lly], [llx, lly+h], [llx+w,lly+h], [llx+w,lly], [llx,lly]]\n",
    "    array = arcpy.Array([arcpy.Point(*coords) for coords in xyRecList])\n",
    "    rec = arcpy.Polygon(array)\n",
    "    return rec\n",
    "\n",
    "mf = lyt.createMapFrame(MakeRec_LL(0.5,0.5,10,7.5), m, \"New Map Frame\")"
   ]
  },
  {
   "cell_type": "markdown",
   "id": "6751acbf",
   "metadata": {},
   "source": [
    "The size of the layout is 11 inches x 8.5 inches which is landscape US Letter size. \n",
    "The size of the map frame is 10 inches x 7.5 inches. It start at the position lower left at (0.5,0.5) that means 0.5 inch margin all around.\n",
    "The advantages of using cod eover the manual layout setup are:\n",
    "\n",
    "•\tMore precise control: color code can help have the exact color if we want.\n",
    "\n",
    "•\tAutomates repetitive tasks\n",
    "\n",
    "•\tSaves time and reduces human error\n",
    "\n",
    "•\tGreat for bulk or dynamic map productionAdd layout elements\n"
   ]
  },
  {
   "cell_type": "code",
   "execution_count": 15,
   "id": "510add0c-c94d-4e59-8544-568f53dde617",
   "metadata": {},
   "outputs": [],
   "source": [
    "#Create a north arrow\n",
    "naStyle = aprx.listStyleItems('ArcGIS 2D', 'North_Arrow', 'Compass North 1')[0]\n",
    "na = lyt.createMapSurroundElement(arcpy.Point(9.5,7.5), 'North_Arrow', mf,\n",
    "                                      naStyle, \"Compass North Arrow\")\n",
    "na.elementWidth = 0.5  \n",
    "\n",
    "#Create a scale bar\n",
    "sbName = 'Double Alternating Scale Bar 1 Metric'\n",
    "sbStyle = aprx.listStyleItems('ArcGIS 2D', 'Scale_bar', sbName)[0]\n",
    "sbEnv = MakeRec_LL(5.5, 0.1, 4, 0.5)\n",
    "sb = lyt.createMapSurroundElement(sbEnv, 'Scale_bar', mf, sbStyle, 'New Scale Bar')"
   ]
  },
  {
   "cell_type": "code",
   "execution_count": 14,
   "id": "b41b0645-b1cf-41a9-a183-780d4cc65273",
   "metadata": {},
   "outputs": [],
   "source": [
    "#create a legend\n",
    "legSi = aprx.listStyleItems('ArcGIS 2D', 'LEGEND', 'Legend 3' )[0]\n",
    "leg = lyt.createMapSurroundElement(arcpy.Point(1,7), 'LEGEND', mf, legSi, 'New Legend Element')\n",
    "leg.elementWidth = 3\n",
    "leg.elementHeight = 3\n",
    "leg.fittingStrategy = 'AdjustFontSize'\n",
    "leg.columnCount = 1\n",
    "leg.title = 'Downtown'"
   ]
  },
  {
   "cell_type": "code",
   "execution_count": 22,
   "id": "66da07b5-96ca-4440-b0c8-7d9f715e57aa",
   "metadata": {},
   "outputs": [
    {
     "data": {
      "text/plain": [
       "'C:\\\\Users\\\\hpokha1\\\\OneDrive - Louisiana State University\\\\Desktop\\\\LSU\\\\01_Class\\\\01_Classes_2nd_sem\\\\GEOG_4057\\\\Assignment_8\\\\Ex8\\\\downtown.pdf'"
      ]
     },
     "execution_count": 22,
     "metadata": {},
     "output_type": "execute_result"
    }
   ],
   "source": [
    "pathname = r\"C:\\Users\\hpokha1\\OneDrive - Louisiana State University\\Desktop\\LSU\\01_Class\\01_Classes_2nd_sem\\GEOG_4057\\Assignment_8\\Ex8\"\n",
    "lyt.exportToPDF(os.path.join(pathname, 'downtown.pdf'))"
   ]
  }
 ],
 "metadata": {
  "kernelspec": {
   "display_name": "ArcGISPro",
   "language": "python",
   "name": "python3"
  },
  "language_info": {
   "file_extension": ".py",
   "mimetype": "text/x-python",
   "name": "python",
   "version": "3.11.10"
  }
 },
 "nbformat": 4,
 "nbformat_minor": 5
}
